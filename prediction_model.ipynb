{
 "cells": [
  {
   "cell_type": "code",
   "execution_count": 3,
   "metadata": {},
   "outputs": [],
   "source": [
    "import matplotlib.pyplot as plt\n",
    "import pandas as pd\n",
    "import numpy as np\n",
    "import os\n",
    "from sklearn.preprocessing import StandardScaler\n",
    "from sklearn.metrics import confusion_matrix"
   ]
  },
  {
   "cell_type": "code",
   "execution_count": 4,
   "metadata": {},
   "outputs": [
    {
     "data": {
      "text/html": [
       "<div>\n",
       "<style scoped>\n",
       "    .dataframe tbody tr th:only-of-type {\n",
       "        vertical-align: middle;\n",
       "    }\n",
       "\n",
       "    .dataframe tbody tr th {\n",
       "        vertical-align: top;\n",
       "    }\n",
       "\n",
       "    .dataframe thead th {\n",
       "        text-align: right;\n",
       "    }\n",
       "</style>\n",
       "<table border=\"1\" class=\"dataframe\">\n",
       "  <thead>\n",
       "    <tr style=\"text-align: right;\">\n",
       "      <th></th>\n",
       "      <th>song</th>\n",
       "      <th>artist</th>\n",
       "      <th>year</th>\n",
       "      <th>peak-rank</th>\n",
       "      <th>weeks-on-board</th>\n",
       "      <th>track_id</th>\n",
       "      <th>danceability</th>\n",
       "      <th>energy</th>\n",
       "      <th>key</th>\n",
       "      <th>loudness</th>\n",
       "      <th>...</th>\n",
       "      <th>speechiness</th>\n",
       "      <th>acousticness</th>\n",
       "      <th>instrumentalness</th>\n",
       "      <th>liveness</th>\n",
       "      <th>valence</th>\n",
       "      <th>tempo</th>\n",
       "      <th>duration_ms</th>\n",
       "      <th>time_signature</th>\n",
       "      <th>billboard</th>\n",
       "      <th>decade</th>\n",
       "    </tr>\n",
       "  </thead>\n",
       "  <tbody>\n",
       "    <tr>\n",
       "      <th>0</th>\n",
       "      <td>(1-2-3-4-5-6-7) Count The Days</td>\n",
       "      <td>Inez &amp; Charlie Foxx</td>\n",
       "      <td>1968</td>\n",
       "      <td>76</td>\n",
       "      <td>5</td>\n",
       "      <td>4wXNtDvLZl55vlQashWQrI</td>\n",
       "      <td>0.686</td>\n",
       "      <td>0.562</td>\n",
       "      <td>5.0</td>\n",
       "      <td>-8.538</td>\n",
       "      <td>...</td>\n",
       "      <td>0.0504</td>\n",
       "      <td>0.589</td>\n",
       "      <td>0.000053</td>\n",
       "      <td>0.124</td>\n",
       "      <td>0.793</td>\n",
       "      <td>116.782</td>\n",
       "      <td>156886.0</td>\n",
       "      <td>4.0</td>\n",
       "      <td>1</td>\n",
       "      <td>1960s</td>\n",
       "    </tr>\n",
       "    <tr>\n",
       "      <th>1</th>\n",
       "      <td>(All Of A Sudden) My Heart Sings</td>\n",
       "      <td>Mel Carter</td>\n",
       "      <td>1965</td>\n",
       "      <td>38</td>\n",
       "      <td>7</td>\n",
       "      <td>6x5BiQwNlbtisITsEHa8Eu</td>\n",
       "      <td>0.419</td>\n",
       "      <td>0.546</td>\n",
       "      <td>7.0</td>\n",
       "      <td>-7.819</td>\n",
       "      <td>...</td>\n",
       "      <td>0.0363</td>\n",
       "      <td>0.479</td>\n",
       "      <td>0.000005</td>\n",
       "      <td>0.535</td>\n",
       "      <td>0.493</td>\n",
       "      <td>118.106</td>\n",
       "      <td>164067.0</td>\n",
       "      <td>3.0</td>\n",
       "      <td>1</td>\n",
       "      <td>1960s</td>\n",
       "    </tr>\n",
       "    <tr>\n",
       "      <th>2</th>\n",
       "      <td>(Baby) Hully Gully</td>\n",
       "      <td>The Olympics</td>\n",
       "      <td>1960</td>\n",
       "      <td>72</td>\n",
       "      <td>7</td>\n",
       "      <td>2CkbNJooPxUsHG4gFXKhxa</td>\n",
       "      <td>0.699</td>\n",
       "      <td>0.661</td>\n",
       "      <td>2.0</td>\n",
       "      <td>-6.090</td>\n",
       "      <td>...</td>\n",
       "      <td>0.0382</td>\n",
       "      <td>0.516</td>\n",
       "      <td>0.000000</td>\n",
       "      <td>0.198</td>\n",
       "      <td>0.869</td>\n",
       "      <td>115.772</td>\n",
       "      <td>218642.0</td>\n",
       "      <td>4.0</td>\n",
       "      <td>1</td>\n",
       "      <td>1960s</td>\n",
       "    </tr>\n",
       "    <tr>\n",
       "      <th>3</th>\n",
       "      <td>(Come round Here) Im The One You Need</td>\n",
       "      <td>The Miracles</td>\n",
       "      <td>1966</td>\n",
       "      <td>17</td>\n",
       "      <td>9</td>\n",
       "      <td>5YvokzRkNONpj5c0TIqTjQ</td>\n",
       "      <td>0.545</td>\n",
       "      <td>0.607</td>\n",
       "      <td>0.0</td>\n",
       "      <td>-9.525</td>\n",
       "      <td>...</td>\n",
       "      <td>0.0347</td>\n",
       "      <td>0.242</td>\n",
       "      <td>0.000000</td>\n",
       "      <td>0.779</td>\n",
       "      <td>0.767</td>\n",
       "      <td>113.880</td>\n",
       "      <td>150067.0</td>\n",
       "      <td>4.0</td>\n",
       "      <td>1</td>\n",
       "      <td>1960s</td>\n",
       "    </tr>\n",
       "    <tr>\n",
       "      <th>4</th>\n",
       "      <td>(Dance The) Mess Around</td>\n",
       "      <td>Chubby Checker</td>\n",
       "      <td>1961</td>\n",
       "      <td>24</td>\n",
       "      <td>7</td>\n",
       "      <td>58EirkLFB6O6wwRN9JowHB</td>\n",
       "      <td>0.511</td>\n",
       "      <td>0.694</td>\n",
       "      <td>10.0</td>\n",
       "      <td>-5.509</td>\n",
       "      <td>...</td>\n",
       "      <td>0.0479</td>\n",
       "      <td>0.381</td>\n",
       "      <td>0.000000</td>\n",
       "      <td>0.195</td>\n",
       "      <td>0.826</td>\n",
       "      <td>146.559</td>\n",
       "      <td>132933.0</td>\n",
       "      <td>4.0</td>\n",
       "      <td>1</td>\n",
       "      <td>1960s</td>\n",
       "    </tr>\n",
       "  </tbody>\n",
       "</table>\n",
       "<p>5 rows × 21 columns</p>\n",
       "</div>"
      ],
      "text/plain": [
       "                                    song               artist  year  \\\n",
       "0         (1-2-3-4-5-6-7) Count The Days  Inez & Charlie Foxx  1968   \n",
       "1       (All Of A Sudden) My Heart Sings           Mel Carter  1965   \n",
       "2                     (Baby) Hully Gully         The Olympics  1960   \n",
       "3  (Come round Here) Im The One You Need         The Miracles  1966   \n",
       "4                (Dance The) Mess Around       Chubby Checker  1961   \n",
       "\n",
       "   peak-rank  weeks-on-board                track_id  danceability  energy  \\\n",
       "0         76               5  4wXNtDvLZl55vlQashWQrI         0.686   0.562   \n",
       "1         38               7  6x5BiQwNlbtisITsEHa8Eu         0.419   0.546   \n",
       "2         72               7  2CkbNJooPxUsHG4gFXKhxa         0.699   0.661   \n",
       "3         17               9  5YvokzRkNONpj5c0TIqTjQ         0.545   0.607   \n",
       "4         24               7  58EirkLFB6O6wwRN9JowHB         0.511   0.694   \n",
       "\n",
       "    key  loudness  ...  speechiness  acousticness  instrumentalness  liveness  \\\n",
       "0   5.0    -8.538  ...       0.0504         0.589          0.000053     0.124   \n",
       "1   7.0    -7.819  ...       0.0363         0.479          0.000005     0.535   \n",
       "2   2.0    -6.090  ...       0.0382         0.516          0.000000     0.198   \n",
       "3   0.0    -9.525  ...       0.0347         0.242          0.000000     0.779   \n",
       "4  10.0    -5.509  ...       0.0479         0.381          0.000000     0.195   \n",
       "\n",
       "   valence    tempo  duration_ms  time_signature  billboard  decade  \n",
       "0    0.793  116.782     156886.0             4.0          1   1960s  \n",
       "1    0.493  118.106     164067.0             3.0          1   1960s  \n",
       "2    0.869  115.772     218642.0             4.0          1   1960s  \n",
       "3    0.767  113.880     150067.0             4.0          1   1960s  \n",
       "4    0.826  146.559     132933.0             4.0          1   1960s  \n",
       "\n",
       "[5 rows x 21 columns]"
      ]
     },
     "execution_count": 4,
     "metadata": {},
     "output_type": "execute_result"
    }
   ],
   "source": [
    "df = pd.read_csv('./Resources/all_songs_final.csv')\n",
    "df.head()"
   ]
  },
  {
   "cell_type": "code",
   "execution_count": 7,
   "metadata": {},
   "outputs": [],
   "source": [
    "df1960s = df[df['decade']=='1960s']\n",
    "df1970s = df[df['decade']=='1970s']\n",
    "df1980s = df[df['decade']=='1980s']\n",
    "df1990s = df[df['decade']=='1990s']\n",
    "df2000s = df[df['decade']=='2000s']\n",
    "df2010s = df[df['decade']=='2010s']\n"
   ]
  },
  {
   "cell_type": "code",
   "execution_count": 14,
   "metadata": {},
   "outputs": [],
   "source": [
    "df = df1960s"
   ]
  },
  {
   "cell_type": "code",
   "execution_count": 15,
   "metadata": {},
   "outputs": [
    {
     "data": {
      "text/html": [
       "<div>\n",
       "<style scoped>\n",
       "    .dataframe tbody tr th:only-of-type {\n",
       "        vertical-align: middle;\n",
       "    }\n",
       "\n",
       "    .dataframe tbody tr th {\n",
       "        vertical-align: top;\n",
       "    }\n",
       "\n",
       "    .dataframe thead th {\n",
       "        text-align: right;\n",
       "    }\n",
       "</style>\n",
       "<table border=\"1\" class=\"dataframe\">\n",
       "  <thead>\n",
       "    <tr style=\"text-align: right;\">\n",
       "      <th></th>\n",
       "      <th>danceability</th>\n",
       "      <th>energy</th>\n",
       "      <th>key</th>\n",
       "      <th>loudness</th>\n",
       "      <th>mode</th>\n",
       "      <th>speechiness</th>\n",
       "      <th>acousticness</th>\n",
       "      <th>instrumentalness</th>\n",
       "      <th>liveness</th>\n",
       "      <th>valence</th>\n",
       "      <th>tempo</th>\n",
       "      <th>duration_ms</th>\n",
       "      <th>time_signature</th>\n",
       "    </tr>\n",
       "  </thead>\n",
       "  <tbody>\n",
       "    <tr>\n",
       "      <th>0</th>\n",
       "      <td>0.686</td>\n",
       "      <td>0.562</td>\n",
       "      <td>5.0</td>\n",
       "      <td>-8.538</td>\n",
       "      <td>1.0</td>\n",
       "      <td>0.0504</td>\n",
       "      <td>0.589</td>\n",
       "      <td>0.000053</td>\n",
       "      <td>0.124</td>\n",
       "      <td>0.793</td>\n",
       "      <td>116.782</td>\n",
       "      <td>156886.0</td>\n",
       "      <td>4.0</td>\n",
       "    </tr>\n",
       "    <tr>\n",
       "      <th>1</th>\n",
       "      <td>0.419</td>\n",
       "      <td>0.546</td>\n",
       "      <td>7.0</td>\n",
       "      <td>-7.819</td>\n",
       "      <td>1.0</td>\n",
       "      <td>0.0363</td>\n",
       "      <td>0.479</td>\n",
       "      <td>0.000005</td>\n",
       "      <td>0.535</td>\n",
       "      <td>0.493</td>\n",
       "      <td>118.106</td>\n",
       "      <td>164067.0</td>\n",
       "      <td>3.0</td>\n",
       "    </tr>\n",
       "    <tr>\n",
       "      <th>2</th>\n",
       "      <td>0.699</td>\n",
       "      <td>0.661</td>\n",
       "      <td>2.0</td>\n",
       "      <td>-6.090</td>\n",
       "      <td>1.0</td>\n",
       "      <td>0.0382</td>\n",
       "      <td>0.516</td>\n",
       "      <td>0.000000</td>\n",
       "      <td>0.198</td>\n",
       "      <td>0.869</td>\n",
       "      <td>115.772</td>\n",
       "      <td>218642.0</td>\n",
       "      <td>4.0</td>\n",
       "    </tr>\n",
       "    <tr>\n",
       "      <th>3</th>\n",
       "      <td>0.545</td>\n",
       "      <td>0.607</td>\n",
       "      <td>0.0</td>\n",
       "      <td>-9.525</td>\n",
       "      <td>1.0</td>\n",
       "      <td>0.0347</td>\n",
       "      <td>0.242</td>\n",
       "      <td>0.000000</td>\n",
       "      <td>0.779</td>\n",
       "      <td>0.767</td>\n",
       "      <td>113.880</td>\n",
       "      <td>150067.0</td>\n",
       "      <td>4.0</td>\n",
       "    </tr>\n",
       "    <tr>\n",
       "      <th>4</th>\n",
       "      <td>0.511</td>\n",
       "      <td>0.694</td>\n",
       "      <td>10.0</td>\n",
       "      <td>-5.509</td>\n",
       "      <td>1.0</td>\n",
       "      <td>0.0479</td>\n",
       "      <td>0.381</td>\n",
       "      <td>0.000000</td>\n",
       "      <td>0.195</td>\n",
       "      <td>0.826</td>\n",
       "      <td>146.559</td>\n",
       "      <td>132933.0</td>\n",
       "      <td>4.0</td>\n",
       "    </tr>\n",
       "  </tbody>\n",
       "</table>\n",
       "</div>"
      ],
      "text/plain": [
       "   danceability  energy   key  loudness  mode  speechiness  acousticness  \\\n",
       "0         0.686   0.562   5.0    -8.538   1.0       0.0504         0.589   \n",
       "1         0.419   0.546   7.0    -7.819   1.0       0.0363         0.479   \n",
       "2         0.699   0.661   2.0    -6.090   1.0       0.0382         0.516   \n",
       "3         0.545   0.607   0.0    -9.525   1.0       0.0347         0.242   \n",
       "4         0.511   0.694  10.0    -5.509   1.0       0.0479         0.381   \n",
       "\n",
       "   instrumentalness  liveness  valence    tempo  duration_ms  time_signature  \n",
       "0          0.000053     0.124    0.793  116.782     156886.0             4.0  \n",
       "1          0.000005     0.535    0.493  118.106     164067.0             3.0  \n",
       "2          0.000000     0.198    0.869  115.772     218642.0             4.0  \n",
       "3          0.000000     0.779    0.767  113.880     150067.0             4.0  \n",
       "4          0.000000     0.195    0.826  146.559     132933.0             4.0  "
      ]
     },
     "execution_count": 15,
     "metadata": {},
     "output_type": "execute_result"
    }
   ],
   "source": [
    "data60s = df[['danceability', 'energy', 'key', 'loudness', 'mode', 'speechiness',\n",
    "       'acousticness', 'instrumentalness', 'liveness', 'valence', 'tempo',\n",
    "       'duration_ms', 'time_signature']]\n",
    "data60s.head()"
   ]
  },
  {
   "cell_type": "code",
   "execution_count": 16,
   "metadata": {},
   "outputs": [],
   "source": [
    "data = data60s"
   ]
  },
  {
   "cell_type": "code",
   "execution_count": 17,
   "metadata": {},
   "outputs": [],
   "source": [
    "target = df[\"billboard\"]\n",
    "target_names = [\"hit\", \"not_a_hit\"]"
   ]
  },
  {
   "cell_type": "code",
   "execution_count": 18,
   "metadata": {},
   "outputs": [],
   "source": [
    "from sklearn.model_selection import train_test_split\n",
    "X_train, X_test, y_train, y_test = train_test_split(data, target, random_state=42)\n",
    "\n",
    "scaler = StandardScaler()\n",
    "scaler.fit(X_train)\n",
    "X_train_scaled = scaler.transform(X_train)\n",
    "X_test_scaled = scaler.transform(X_test)"
   ]
  },
  {
   "cell_type": "code",
   "execution_count": 19,
   "metadata": {},
   "outputs": [
    {
     "data": {
      "text/plain": [
       "SVC(kernel='linear', probability=True)"
      ]
     },
     "execution_count": 19,
     "metadata": {},
     "output_type": "execute_result"
    }
   ],
   "source": [
    "# Support vector machine linear classifier\n",
    "from sklearn.svm import SVC \n",
    "\n",
    "modelsc = SVC(kernel='linear', probability=True)\n",
    "modelsc.fit(X_train_scaled, y_train)"
   ]
  },
  {
   "cell_type": "code",
   "execution_count": 27,
   "metadata": {},
   "outputs": [
    {
     "data": {
      "image/png": "[encoded data removed]",
      "text/plain": [
       "<Figure size 640x480 with 1 Axes>"
      ]
     },
     "metadata": {},
     "output_type": "display_data"
    }
   ],
   "source": [
    "from sklearn.metrics import roc_curve\n",
    "from sklearn.metrics import auc\n",
    "\n",
    "y_pred_proba = modelsc.predict_proba(X_test_scaled)[:,1]\n",
    "fpr, tpr, thresholds = roc_curve(y_test, y_pred_proba)\n",
    "roc_auc = auc(fpr, tpr)\n",
    "\n",
    "plt.figure()\n",
    "plt.plot(fpr, tpr, color='darkorange',\n",
    "         label=f'ROC curve (area = {roc_auc:0.2f})')\n",
    "plt.plot([0, 1], [0, 1], color='navy', linestyle='--')\n",
    "plt.xlim([0.0, 1.0])\n",
    "plt.ylim([0.0, 1.05])\n",
    "plt.xlabel('False Positive Rate')\n",
    "plt.ylabel('True Positive Rate')\n",
    "plt.title('Receiver operating characteristic example')\n",
    "plt.legend(loc=\"lower right\")\n",
    "plt.show()"
   ]
  },
  {
   "cell_type": "code",
   "execution_count": 29,
   "metadata": {},
   "outputs": [
    {
     "name": "stdout",
     "output_type": "stream",
     "text": [
      "Scaled Test Acc: 0.725\n"
     ]
    },
    {
     "name": "stderr",
     "output_type": "stream",
     "text": [
      "/Users/glena.dagger/Downloads/anaconda3/envs/mlenv/lib/python3.7/site-packages/sklearn/base.py:444: UserWarning: X has feature names, but SVC was fitted without feature names\n",
      "  f\"X has feature names, but {self.__class__.__name__} was fitted without\"\n"
     ]
    },
    {
     "data": {
      "text/plain": [
       "array([[2172,    0],\n",
       "       [1439,    0]])"
      ]
     },
     "execution_count": 29,
     "metadata": {},
     "output_type": "execute_result"
    }
   ],
   "source": [
    "# Model Accuracy\n",
    "print('Scaled Test Acc: %.3f' % modelsc.score(X_test_scaled, y_test))\n",
    "y_true = y_test\n",
    "y_pred = modelsc.predict(X_test)\n",
    "cm = confusion_matrix(y_true, y_pred)\n",
    "cm\n"
   ]
  },
  {
   "cell_type": "code",
   "execution_count": 24,
   "metadata": {},
   "outputs": [
    {
     "data": {
      "text/plain": [
       "array([[1578,  594],\n",
       "       [ 400, 1039]])"
      ]
     },
     "execution_count": 24,
     "metadata": {},
     "output_type": "execute_result"
    }
   ],
   "source": [
    "y_predsc = modelsc.predict(X_test_scaled)\n",
    "cm = confusion_matrix(y_true, y_predsc)\n",
    "cm"
   ]
  },
  {
   "cell_type": "code",
   "execution_count": 26,
   "metadata": {},
   "outputs": [
    {
     "name": "stdout",
     "output_type": "stream",
     "text": [
      "              precision    recall  f1-score   support\n",
      "\n",
      "         hit       0.80      0.73      0.76      2172\n",
      "   not_a_hit       0.64      0.72      0.68      1439\n",
      "\n",
      "    accuracy                           0.72      3611\n",
      "   macro avg       0.72      0.72      0.72      3611\n",
      "weighted avg       0.73      0.72      0.73      3611\n",
      "\n"
     ]
    }
   ],
   "source": [
    "from sklearn.metrics import classification_report\n",
    "predictions = modelsc.predict(X_test_scaled)\n",
    "print(classification_report(y_test, predictions,\n",
    "                            target_names=target_names))"
   ]
  },
  {
   "cell_type": "code",
   "execution_count": 35,
   "metadata": {},
   "outputs": [],
   "source": [
    "df = pd.DataFrame({'actual': y_test, 'predictions': predictions})"
   ]
  },
  {
   "cell_type": "code",
   "execution_count": 37,
   "metadata": {},
   "outputs": [
    {
     "data": {
      "text/html": [
       "<div>\n",
       "<style scoped>\n",
       "    .dataframe tbody tr th:only-of-type {\n",
       "        vertical-align: middle;\n",
       "    }\n",
       "\n",
       "    .dataframe tbody tr th {\n",
       "        vertical-align: top;\n",
       "    }\n",
       "\n",
       "    .dataframe thead th {\n",
       "        text-align: right;\n",
       "    }\n",
       "</style>\n",
       "<table border=\"1\" class=\"dataframe\">\n",
       "  <thead>\n",
       "    <tr style=\"text-align: right;\">\n",
       "      <th></th>\n",
       "      <th>actual</th>\n",
       "      <th>predictions</th>\n",
       "    </tr>\n",
       "  </thead>\n",
       "  <tbody>\n",
       "    <tr>\n",
       "      <th>4417</th>\n",
       "      <td>1</td>\n",
       "      <td>1</td>\n",
       "    </tr>\n",
       "    <tr>\n",
       "      <th>907</th>\n",
       "      <td>1</td>\n",
       "      <td>1</td>\n",
       "    </tr>\n",
       "    <tr>\n",
       "      <th>2859</th>\n",
       "      <td>1</td>\n",
       "      <td>1</td>\n",
       "    </tr>\n",
       "    <tr>\n",
       "      <th>5836</th>\n",
       "      <td>1</td>\n",
       "      <td>1</td>\n",
       "    </tr>\n",
       "    <tr>\n",
       "      <th>2715</th>\n",
       "      <td>1</td>\n",
       "      <td>1</td>\n",
       "    </tr>\n",
       "    <tr>\n",
       "      <th>...</th>\n",
       "      <td>...</td>\n",
       "      <td>...</td>\n",
       "    </tr>\n",
       "    <tr>\n",
       "      <th>685758</th>\n",
       "      <td>0</td>\n",
       "      <td>0</td>\n",
       "    </tr>\n",
       "    <tr>\n",
       "      <th>5333</th>\n",
       "      <td>1</td>\n",
       "      <td>0</td>\n",
       "    </tr>\n",
       "    <tr>\n",
       "      <th>677670</th>\n",
       "      <td>0</td>\n",
       "      <td>0</td>\n",
       "    </tr>\n",
       "    <tr>\n",
       "      <th>405040</th>\n",
       "      <td>0</td>\n",
       "      <td>0</td>\n",
       "    </tr>\n",
       "    <tr>\n",
       "      <th>642568</th>\n",
       "      <td>0</td>\n",
       "      <td>1</td>\n",
       "    </tr>\n",
       "  </tbody>\n",
       "</table>\n",
       "<p>3611 rows × 2 columns</p>\n",
       "</div>"
      ],
      "text/plain": [
       "        actual  predictions\n",
       "4417         1            1\n",
       "907          1            1\n",
       "2859         1            1\n",
       "5836         1            1\n",
       "2715         1            1\n",
       "...        ...          ...\n",
       "685758       0            0\n",
       "5333         1            0\n",
       "677670       0            0\n",
       "405040       0            0\n",
       "642568       0            1\n",
       "\n",
       "[3611 rows x 2 columns]"
      ]
     },
     "execution_count": 37,
     "metadata": {},
     "output_type": "execute_result"
    }
   ],
   "source": [
    "df"
   ]
  },
  {
   "cell_type": "code",
   "execution_count": null,
   "metadata": {},
   "outputs": [],
   "source": []
  }
 ],
 "metadata": {
  "kernelspec": {
   "display_name": "base",
   "language": "python",
   "name": "python3"
  },
  "language_info": {
   "codemirror_mode": {
    "name": "ipython",
    "version": 3
   },
   "file_extension": ".py",
   "mimetype": "text/x-python",
   "name": "python",
   "nbconvert_exporter": "python",
   "pygments_lexer": "ipython3",
   "version": "3.7.13"
  },
  "orig_nbformat": 4
 },
 "nbformat": 4,
 "nbformat_minor": 2
}
